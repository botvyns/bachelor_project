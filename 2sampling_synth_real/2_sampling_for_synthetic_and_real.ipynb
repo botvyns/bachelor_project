{
  "nbformat": 4,
  "nbformat_minor": 0,
  "metadata": {
    "colab": {
      "provenance": []
    },
    "kernelspec": {
      "name": "python3",
      "display_name": "Python 3"
    },
    "language_info": {
      "name": "python"
    }
  },
  "cells": [
    {
      "cell_type": "markdown",
      "source": [
        "# Concatenating synthetic data"
      ],
      "metadata": {
        "id": "hQV69CGwbBV8"
      }
    },
    {
      "cell_type": "code",
      "source": [
        "import json\n",
        "import pandas as pd\n",
        "import re"
      ],
      "metadata": {
        "id": "Viu3pFRjGXo1"
      },
      "execution_count": null,
      "outputs": []
    },
    {
      "cell_type": "code",
      "source": [
        "filenames = [\"/content/gemini_sarcastic_fewshot.txt\", \"/content/gemini_sarcastic_oneshot.txt\", \"/content/gemini_simple_prompt.txt\",\n",
        "             \"/content/openapi_sarcastic_fewshot.txt\", \"/content/openapi_sarcastic_oneshot.txt\", \"/content/openapi_simple_prompt.txt\"]\n",
        "\n",
        "column_names = [[\"gemini\", \"fewshot\"],[\"gemini\", \"oneshot\"], [\"gemini\", \"zeroshot\"],[\"openai\", \"fewshot\"],[\"openai\", \"oneshot\"],[\"openai\", \"zeroshot\"]]\n",
        "\n",
        "all_data = []\n",
        "\n",
        "for filename, columns in zip(filenames, column_names):\n",
        "    with open(filename) as file:\n",
        "        data = file.read()\n",
        "\n",
        "    parsed_data = json.loads(data)\n",
        "    synthetic = [text for key, value in parsed_data.items() for text in value]\n",
        "\n",
        "    for text in synthetic:\n",
        "        text_dict = {'text': text, 'llm': columns[0], 'prompting': columns[1]}\n",
        "        all_data.append(text_dict)\n",
        "\n",
        "synth_sarc = pd.DataFrame(all_data)"
      ],
      "metadata": {
        "id": "IKRVoCvJdW_n"
      },
      "execution_count": null,
      "outputs": []
    },
    {
      "cell_type": "code",
      "source": [
        "synth_sarc"
      ],
      "metadata": {
        "colab": {
          "base_uri": "https://localhost:8080/",
          "height": 424
        },
        "id": "1r0s1lbILQcV",
        "outputId": "2fadb97e-2c63-4cb8-e685-bbdd5e28901d"
      },
      "execution_count": null,
      "outputs": [
        {
          "output_type": "execute_result",
          "data": {
            "text/plain": [
              "                                                   text     llm prompting\n",
              "0     Ой, так, тому що російські війська абсолютно в...  gemini   fewshot\n",
              "1     Я впевнений, що анексія української території ...  gemini   fewshot\n",
              "2     Російська економіка процвітає під санкціями. Н...  gemini   fewshot\n",
              "3     О, так, \\'спеціальна військова операція\\' йде ...  gemini   fewshot\n",
              "4     Російські ЗМІ такі ж об'єктивні та неупереджен...  gemini   fewshot\n",
              "...                                                 ...     ...       ...\n",
              "5488  О, нові гучні роботи по будинку поруч з моїм б...  openai  zeroshot\n",
              "5489  Хто потребує свіжого повітря, коли можеш весь ...  openai  zeroshot\n",
              "5490  Ага, кому потрібні електронні книги, коли у те...  openai  zeroshot\n",
              "5491  Прекрасно, що ти розповідаєш всі сюжетні повор...  openai  zeroshot\n",
              "5492  Ага, я дійсно люблю, коли ти використовуєш всі...  openai  zeroshot\n",
              "\n",
              "[5493 rows x 3 columns]"
            ],
            "text/html": [
              "\n",
              "  <div id=\"df-24cfdc11-e006-4b84-abc4-e4602276354a\" class=\"colab-df-container\">\n",
              "    <div>\n",
              "<style scoped>\n",
              "    .dataframe tbody tr th:only-of-type {\n",
              "        vertical-align: middle;\n",
              "    }\n",
              "\n",
              "    .dataframe tbody tr th {\n",
              "        vertical-align: top;\n",
              "    }\n",
              "\n",
              "    .dataframe thead th {\n",
              "        text-align: right;\n",
              "    }\n",
              "</style>\n",
              "<table border=\"1\" class=\"dataframe\">\n",
              "  <thead>\n",
              "    <tr style=\"text-align: right;\">\n",
              "      <th></th>\n",
              "      <th>text</th>\n",
              "      <th>llm</th>\n",
              "      <th>prompting</th>\n",
              "    </tr>\n",
              "  </thead>\n",
              "  <tbody>\n",
              "    <tr>\n",
              "      <th>0</th>\n",
              "      <td>Ой, так, тому що російські війська абсолютно в...</td>\n",
              "      <td>gemini</td>\n",
              "      <td>fewshot</td>\n",
              "    </tr>\n",
              "    <tr>\n",
              "      <th>1</th>\n",
              "      <td>Я впевнений, що анексія української території ...</td>\n",
              "      <td>gemini</td>\n",
              "      <td>fewshot</td>\n",
              "    </tr>\n",
              "    <tr>\n",
              "      <th>2</th>\n",
              "      <td>Російська економіка процвітає під санкціями. Н...</td>\n",
              "      <td>gemini</td>\n",
              "      <td>fewshot</td>\n",
              "    </tr>\n",
              "    <tr>\n",
              "      <th>3</th>\n",
              "      <td>О, так, \\'спеціальна військова операція\\' йде ...</td>\n",
              "      <td>gemini</td>\n",
              "      <td>fewshot</td>\n",
              "    </tr>\n",
              "    <tr>\n",
              "      <th>4</th>\n",
              "      <td>Російські ЗМІ такі ж об'єктивні та неупереджен...</td>\n",
              "      <td>gemini</td>\n",
              "      <td>fewshot</td>\n",
              "    </tr>\n",
              "    <tr>\n",
              "      <th>...</th>\n",
              "      <td>...</td>\n",
              "      <td>...</td>\n",
              "      <td>...</td>\n",
              "    </tr>\n",
              "    <tr>\n",
              "      <th>5488</th>\n",
              "      <td>О, нові гучні роботи по будинку поруч з моїм б...</td>\n",
              "      <td>openai</td>\n",
              "      <td>zeroshot</td>\n",
              "    </tr>\n",
              "    <tr>\n",
              "      <th>5489</th>\n",
              "      <td>Хто потребує свіжого повітря, коли можеш весь ...</td>\n",
              "      <td>openai</td>\n",
              "      <td>zeroshot</td>\n",
              "    </tr>\n",
              "    <tr>\n",
              "      <th>5490</th>\n",
              "      <td>Ага, кому потрібні електронні книги, коли у те...</td>\n",
              "      <td>openai</td>\n",
              "      <td>zeroshot</td>\n",
              "    </tr>\n",
              "    <tr>\n",
              "      <th>5491</th>\n",
              "      <td>Прекрасно, що ти розповідаєш всі сюжетні повор...</td>\n",
              "      <td>openai</td>\n",
              "      <td>zeroshot</td>\n",
              "    </tr>\n",
              "    <tr>\n",
              "      <th>5492</th>\n",
              "      <td>Ага, я дійсно люблю, коли ти використовуєш всі...</td>\n",
              "      <td>openai</td>\n",
              "      <td>zeroshot</td>\n",
              "    </tr>\n",
              "  </tbody>\n",
              "</table>\n",
              "<p>5493 rows × 3 columns</p>\n",
              "</div>\n",
              "    <div class=\"colab-df-buttons\">\n",
              "\n",
              "  <div class=\"colab-df-container\">\n",
              "    <button class=\"colab-df-convert\" onclick=\"convertToInteractive('df-24cfdc11-e006-4b84-abc4-e4602276354a')\"\n",
              "            title=\"Convert this dataframe to an interactive table.\"\n",
              "            style=\"display:none;\">\n",
              "\n",
              "  <svg xmlns=\"http://www.w3.org/2000/svg\" height=\"24px\" viewBox=\"0 -960 960 960\">\n",
              "    <path d=\"M120-120v-720h720v720H120Zm60-500h600v-160H180v160Zm220 220h160v-160H400v160Zm0 220h160v-160H400v160ZM180-400h160v-160H180v160Zm440 0h160v-160H620v160ZM180-180h160v-160H180v160Zm440 0h160v-160H620v160Z\"/>\n",
              "  </svg>\n",
              "    </button>\n",
              "\n",
              "  <style>\n",
              "    .colab-df-container {\n",
              "      display:flex;\n",
              "      gap: 12px;\n",
              "    }\n",
              "\n",
              "    .colab-df-convert {\n",
              "      background-color: #E8F0FE;\n",
              "      border: none;\n",
              "      border-radius: 50%;\n",
              "      cursor: pointer;\n",
              "      display: none;\n",
              "      fill: #1967D2;\n",
              "      height: 32px;\n",
              "      padding: 0 0 0 0;\n",
              "      width: 32px;\n",
              "    }\n",
              "\n",
              "    .colab-df-convert:hover {\n",
              "      background-color: #E2EBFA;\n",
              "      box-shadow: 0px 1px 2px rgba(60, 64, 67, 0.3), 0px 1px 3px 1px rgba(60, 64, 67, 0.15);\n",
              "      fill: #174EA6;\n",
              "    }\n",
              "\n",
              "    .colab-df-buttons div {\n",
              "      margin-bottom: 4px;\n",
              "    }\n",
              "\n",
              "    [theme=dark] .colab-df-convert {\n",
              "      background-color: #3B4455;\n",
              "      fill: #D2E3FC;\n",
              "    }\n",
              "\n",
              "    [theme=dark] .colab-df-convert:hover {\n",
              "      background-color: #434B5C;\n",
              "      box-shadow: 0px 1px 3px 1px rgba(0, 0, 0, 0.15);\n",
              "      filter: drop-shadow(0px 1px 2px rgba(0, 0, 0, 0.3));\n",
              "      fill: #FFFFFF;\n",
              "    }\n",
              "  </style>\n",
              "\n",
              "    <script>\n",
              "      const buttonEl =\n",
              "        document.querySelector('#df-24cfdc11-e006-4b84-abc4-e4602276354a button.colab-df-convert');\n",
              "      buttonEl.style.display =\n",
              "        google.colab.kernel.accessAllowed ? 'block' : 'none';\n",
              "\n",
              "      async function convertToInteractive(key) {\n",
              "        const element = document.querySelector('#df-24cfdc11-e006-4b84-abc4-e4602276354a');\n",
              "        const dataTable =\n",
              "          await google.colab.kernel.invokeFunction('convertToInteractive',\n",
              "                                                    [key], {});\n",
              "        if (!dataTable) return;\n",
              "\n",
              "        const docLinkHtml = 'Like what you see? Visit the ' +\n",
              "          '<a target=\"_blank\" href=https://colab.research.google.com/notebooks/data_table.ipynb>data table notebook</a>'\n",
              "          + ' to learn more about interactive tables.';\n",
              "        element.innerHTML = '';\n",
              "        dataTable['output_type'] = 'display_data';\n",
              "        await google.colab.output.renderOutput(dataTable, element);\n",
              "        const docLink = document.createElement('div');\n",
              "        docLink.innerHTML = docLinkHtml;\n",
              "        element.appendChild(docLink);\n",
              "      }\n",
              "    </script>\n",
              "  </div>\n",
              "\n",
              "\n",
              "<div id=\"df-e63cf755-3ff3-40c3-9989-90327b312548\">\n",
              "  <button class=\"colab-df-quickchart\" onclick=\"quickchart('df-e63cf755-3ff3-40c3-9989-90327b312548')\"\n",
              "            title=\"Suggest charts\"\n",
              "            style=\"display:none;\">\n",
              "\n",
              "<svg xmlns=\"http://www.w3.org/2000/svg\" height=\"24px\"viewBox=\"0 0 24 24\"\n",
              "     width=\"24px\">\n",
              "    <g>\n",
              "        <path d=\"M19 3H5c-1.1 0-2 .9-2 2v14c0 1.1.9 2 2 2h14c1.1 0 2-.9 2-2V5c0-1.1-.9-2-2-2zM9 17H7v-7h2v7zm4 0h-2V7h2v10zm4 0h-2v-4h2v4z\"/>\n",
              "    </g>\n",
              "</svg>\n",
              "  </button>\n",
              "\n",
              "<style>\n",
              "  .colab-df-quickchart {\n",
              "      --bg-color: #E8F0FE;\n",
              "      --fill-color: #1967D2;\n",
              "      --hover-bg-color: #E2EBFA;\n",
              "      --hover-fill-color: #174EA6;\n",
              "      --disabled-fill-color: #AAA;\n",
              "      --disabled-bg-color: #DDD;\n",
              "  }\n",
              "\n",
              "  [theme=dark] .colab-df-quickchart {\n",
              "      --bg-color: #3B4455;\n",
              "      --fill-color: #D2E3FC;\n",
              "      --hover-bg-color: #434B5C;\n",
              "      --hover-fill-color: #FFFFFF;\n",
              "      --disabled-bg-color: #3B4455;\n",
              "      --disabled-fill-color: #666;\n",
              "  }\n",
              "\n",
              "  .colab-df-quickchart {\n",
              "    background-color: var(--bg-color);\n",
              "    border: none;\n",
              "    border-radius: 50%;\n",
              "    cursor: pointer;\n",
              "    display: none;\n",
              "    fill: var(--fill-color);\n",
              "    height: 32px;\n",
              "    padding: 0;\n",
              "    width: 32px;\n",
              "  }\n",
              "\n",
              "  .colab-df-quickchart:hover {\n",
              "    background-color: var(--hover-bg-color);\n",
              "    box-shadow: 0 1px 2px rgba(60, 64, 67, 0.3), 0 1px 3px 1px rgba(60, 64, 67, 0.15);\n",
              "    fill: var(--button-hover-fill-color);\n",
              "  }\n",
              "\n",
              "  .colab-df-quickchart-complete:disabled,\n",
              "  .colab-df-quickchart-complete:disabled:hover {\n",
              "    background-color: var(--disabled-bg-color);\n",
              "    fill: var(--disabled-fill-color);\n",
              "    box-shadow: none;\n",
              "  }\n",
              "\n",
              "  .colab-df-spinner {\n",
              "    border: 2px solid var(--fill-color);\n",
              "    border-color: transparent;\n",
              "    border-bottom-color: var(--fill-color);\n",
              "    animation:\n",
              "      spin 1s steps(1) infinite;\n",
              "  }\n",
              "\n",
              "  @keyframes spin {\n",
              "    0% {\n",
              "      border-color: transparent;\n",
              "      border-bottom-color: var(--fill-color);\n",
              "      border-left-color: var(--fill-color);\n",
              "    }\n",
              "    20% {\n",
              "      border-color: transparent;\n",
              "      border-left-color: var(--fill-color);\n",
              "      border-top-color: var(--fill-color);\n",
              "    }\n",
              "    30% {\n",
              "      border-color: transparent;\n",
              "      border-left-color: var(--fill-color);\n",
              "      border-top-color: var(--fill-color);\n",
              "      border-right-color: var(--fill-color);\n",
              "    }\n",
              "    40% {\n",
              "      border-color: transparent;\n",
              "      border-right-color: var(--fill-color);\n",
              "      border-top-color: var(--fill-color);\n",
              "    }\n",
              "    60% {\n",
              "      border-color: transparent;\n",
              "      border-right-color: var(--fill-color);\n",
              "    }\n",
              "    80% {\n",
              "      border-color: transparent;\n",
              "      border-right-color: var(--fill-color);\n",
              "      border-bottom-color: var(--fill-color);\n",
              "    }\n",
              "    90% {\n",
              "      border-color: transparent;\n",
              "      border-bottom-color: var(--fill-color);\n",
              "    }\n",
              "  }\n",
              "</style>\n",
              "\n",
              "  <script>\n",
              "    async function quickchart(key) {\n",
              "      const quickchartButtonEl =\n",
              "        document.querySelector('#' + key + ' button');\n",
              "      quickchartButtonEl.disabled = true;  // To prevent multiple clicks.\n",
              "      quickchartButtonEl.classList.add('colab-df-spinner');\n",
              "      try {\n",
              "        const charts = await google.colab.kernel.invokeFunction(\n",
              "            'suggestCharts', [key], {});\n",
              "      } catch (error) {\n",
              "        console.error('Error during call to suggestCharts:', error);\n",
              "      }\n",
              "      quickchartButtonEl.classList.remove('colab-df-spinner');\n",
              "      quickchartButtonEl.classList.add('colab-df-quickchart-complete');\n",
              "    }\n",
              "    (() => {\n",
              "      let quickchartButtonEl =\n",
              "        document.querySelector('#df-e63cf755-3ff3-40c3-9989-90327b312548 button');\n",
              "      quickchartButtonEl.style.display =\n",
              "        google.colab.kernel.accessAllowed ? 'block' : 'none';\n",
              "    })();\n",
              "  </script>\n",
              "</div>\n",
              "    </div>\n",
              "  </div>\n"
            ],
            "application/vnd.google.colaboratory.intrinsic+json": {
              "type": "dataframe",
              "variable_name": "synth_sarc",
              "summary": "{\n  \"name\": \"synth_sarc\",\n  \"rows\": 5493,\n  \"fields\": [\n    {\n      \"column\": \"text\",\n      \"properties\": {\n        \"dtype\": \"string\",\n        \"num_unique_values\": 5468,\n        \"samples\": [\n          \"\\u042f \\u0442\\u0430\\u043a \\u043b\\u044e\\u0431\\u043b\\u044e, \\u043a\\u043e\\u043b\\u0438 \\u0432 \\u0456\\u043d\\u0442\\u0435\\u0440\\u043d\\u0435\\u0442\\u0456 \\u0437\\u0430\\u043a\\u0456\\u043d\\u0447\\u0443\\u0454\\u0442\\u044c\\u0441\\u044f \\u043a\\u043e\\u0442\\u0438\\u0440\\u0443\\u0432\\u0430\\u043d\\u043d\\u044f \\u0442\\u0430 \\u0437\\\\'\\u044f\\u0432\\u043b\\u044f\\u0454\\u0442\\u044c\\u0441\\u044f \\u043b\\u0438\\u0448\\u0435 \\u043f\\u043e\\u043b\\u0456\\u0442\\u0438\\u043a\\u0430!\",\n          \"\\u0421\\u0442\\u0456\\u043b\\u044c\\u043a\\u0438 \\u0444\\u043e\\u0442\\u043e\\u0433\\u0440\\u0430\\u0444\\u0456\\u0439 \\u043a\\u043e\\u0442\\u0430 \\u0432 Instagram! \\u041d\\u0456\\u043a\\u043e\\u043b\\u0438 \\u0431 \\u043d\\u0435 \\u043f\\u043e\\u0434\\u0443\\u043c\\u0430\\u0432, \\u0449\\u043e \\u043b\\u044e\\u0434\\u0438 \\u043c\\u043e\\u0436\\u0443\\u0442\\u044c \\u0442\\u0440\\u043e\\u0445\\u0438 \\u043f\\u0435\\u0440\\u0435\\u0431\\u043e\\u0440\\u0449\\u0438\\u0442\\u0438 \\u0437 \\u0446\\u0438\\u043c.\",\n          \"\\u041b\\u044e\\u0431\\u043b\\u044e, \\u043a\\u043e\\u043b\\u0438 \\u0433\\u0440\\u043e\\u043c\\u0430\\u0434\\u0441\\u044c\\u043a\\u0438\\u0439 \\u0442\\u0440\\u0430\\u043d\\u0441\\u043f\\u043e\\u0440\\u0442 \\u0437\\u0430\\u043f\\u0456\\u0437\\u043d\\u044e\\u0454\\u0442\\u044c\\u0441\\u044f, \\u0432\\u0456\\u0434\\u0447\\u0443\\u0432\\u0430\\u0454\\u0448 \\u0441\\u0435\\u0431\\u0435 \\u0447\\u0430\\u0441\\u0442\\u0438\\u043d\\u043e\\u044e \\u043f\\u0440\\u0438\\u0433\\u043e\\u0434\\u0438!\"\n        ],\n        \"semantic_type\": \"\",\n        \"description\": \"\"\n      }\n    },\n    {\n      \"column\": \"llm\",\n      \"properties\": {\n        \"dtype\": \"category\",\n        \"num_unique_values\": 2,\n        \"samples\": [\n          \"openai\",\n          \"gemini\"\n        ],\n        \"semantic_type\": \"\",\n        \"description\": \"\"\n      }\n    },\n    {\n      \"column\": \"prompting\",\n      \"properties\": {\n        \"dtype\": \"category\",\n        \"num_unique_values\": 3,\n        \"samples\": [\n          \"fewshot\",\n          \"oneshot\"\n        ],\n        \"semantic_type\": \"\",\n        \"description\": \"\"\n      }\n    }\n  ]\n}"
            }
          },
          "metadata": {},
          "execution_count": 10
        }
      ]
    },
    {
      "cell_type": "code",
      "source": [
        "# count the number of texts in each group\n",
        "grouped_data = synth_sarc.groupby(['llm', 'prompting'])\n",
        "grouped_counts = grouped_data.size()\n",
        "print(grouped_counts)"
      ],
      "metadata": {
        "colab": {
          "base_uri": "https://localhost:8080/"
        },
        "id": "O7Np5GglLQ7X",
        "outputId": "ad218af1-b638-4d7f-deca-8fb45e4388a6"
      },
      "execution_count": null,
      "outputs": [
        {
          "output_type": "stream",
          "name": "stdout",
          "text": [
            "llm     prompting\n",
            "gemini  fewshot       911\n",
            "        oneshot      1011\n",
            "        zeroshot     1017\n",
            "openai  fewshot       767\n",
            "        oneshot       928\n",
            "        zeroshot      859\n",
            "dtype: int64\n"
          ]
        }
      ]
    },
    {
      "cell_type": "code",
      "source": [
        "synth_sarc.to_csv(\"synthetic_data_combined.csv\")"
      ],
      "metadata": {
        "id": "jroy9MorMntE"
      },
      "execution_count": null,
      "outputs": []
    },
    {
      "cell_type": "markdown",
      "source": [
        "# Tokenizing real and synthetic sarcastic data for sampling"
      ],
      "metadata": {
        "id": "se9dBI2jcSdw"
      }
    },
    {
      "cell_type": "code",
      "source": [
        "!pip install tokenize_uk"
      ],
      "metadata": {
        "id": "bRGoOGso-iG4"
      },
      "execution_count": null,
      "outputs": []
    },
    {
      "cell_type": "code",
      "source": [
        "import pandas as pd\n",
        "synth_sarc = pd.read_csv(\"synthetic_data_combined.csv\")"
      ],
      "metadata": {
        "id": "A4N-uS7nL1_K"
      },
      "execution_count": null,
      "outputs": []
    },
    {
      "cell_type": "code",
      "source": [
        "import tokenize_uk\n",
        "import re"
      ],
      "metadata": {
        "id": "vBCHfHt2-jYO"
      },
      "execution_count": null,
      "outputs": []
    },
    {
      "cell_type": "code",
      "source": [
        "real_full = pd.read_csv(\"/content/dataset_cleaned.csv\")\n",
        "real_sarc = real_full[real_full['is_sarcastic'] == True]"
      ],
      "metadata": {
        "id": "4Vwro8qFbzKa"
      },
      "execution_count": null,
      "outputs": []
    },
    {
      "cell_type": "code",
      "source": [
        "def filter_words(text):\n",
        "    words_list = tokenize_uk.tokenize_words(text)\n",
        "    filtered_words = [word for word in words_list if re.match(r\"^[А-ЩЬЮЯҐЄІЇа-щьюяґєії][А-ЩЬЮЯҐЄІЇа-щьюяґєії’ʼ']*?[А-ЩЬЮЯҐЄІЇа-щьюяґєії]?$\", word)]\n",
        "    return filtered_words, len(filtered_words)\n",
        "\n",
        "def substitute_user_mentions_and_links(text):\n",
        "    # Regular expression to match user mentions\n",
        "    user_mention_pattern = r'@\\w+'\n",
        "\n",
        "    # Regular expression to match links\n",
        "    link_pattern = r'http[s]?://(?:[a-zA-Z]|[0-9]|[$-_@.&+]|[!*\\\\(\\\\),]|(?:%[0-9a-fA-F][0-9a-fA-F]))+'\n",
        "\n",
        "    text = re.sub(user_mention_pattern, '', text)\n",
        "\n",
        "    text = re.sub(link_pattern, '', text)\n",
        "\n",
        "    text = re.sub(r'[a-zA-Z]+', '', text)\n",
        "\n",
        "    return text.lower()"
      ],
      "metadata": {
        "id": "eirxSvQWqpKz"
      },
      "execution_count": null,
      "outputs": []
    },
    {
      "cell_type": "code",
      "source": [
        "real_sarc['text_mod'] = real_sarc['text'].apply(substitute_user_mentions_and_links)\n",
        "real_sarc[['tokens', 'num_words']]  = real_sarc['text_mod'].apply(lambda x: pd.Series(filter_words(x)))\n",
        "\n",
        "synth_sarc['text_mod'] = synth_sarc['text'].apply(substitute_user_mentions_and_links)\n",
        "synth_sarc[['tokens', 'num_words']]  = synth_sarc['text_mod'].apply(lambda x: pd.Series(filter_words(x)))"
      ],
      "metadata": {
        "id": "RLjNYN8msgQE"
      },
      "execution_count": null,
      "outputs": []
    },
    {
      "cell_type": "code",
      "source": [
        "duplicates = synth_sarc[synth_sarc.duplicated(subset='text', keep='first')]\n",
        "\n",
        "synth_sarc_unique = synth_sarc.drop_duplicates(subset='text', keep='first')\n",
        "\n",
        "print(synth_sarc.shape[0])\n",
        "print(synth_sarc_unique.shape[0])\n",
        "print(len(duplicates))"
      ],
      "metadata": {
        "colab": {
          "base_uri": "https://localhost:8080/"
        },
        "id": "YMJhffixgP_6",
        "outputId": "eaddbc25-4150-4828-fd95-c5af74f4131c"
      },
      "execution_count": null,
      "outputs": [
        {
          "output_type": "stream",
          "name": "stdout",
          "text": [
            "5493\n",
            "5468\n",
            "25\n"
          ]
        }
      ]
    },
    {
      "cell_type": "code",
      "source": [
        "print(synth_sarc.groupby(['llm', 'prompting'])['num_words'].sum())\n",
        "print(synth_sarc_unique.groupby(['llm', 'prompting'])['num_words'].sum())"
      ],
      "metadata": {
        "colab": {
          "base_uri": "https://localhost:8080/"
        },
        "id": "KV3q2NZYTgY5",
        "outputId": "e927e3a5-02c2-4b3c-d247-770afb2c97dd"
      },
      "execution_count": null,
      "outputs": [
        {
          "output_type": "stream",
          "name": "stdout",
          "text": [
            "llm     prompting\n",
            "gemini  fewshot      11119\n",
            "        oneshot      12846\n",
            "        zeroshot     12903\n",
            "openai  fewshot      10770\n",
            "        oneshot      12290\n",
            "        zeroshot     11434\n",
            "Name: num_words, dtype: int64\n",
            "llm     prompting\n",
            "gemini  fewshot      11108\n",
            "        oneshot      12733\n",
            "        zeroshot     12785\n",
            "openai  fewshot      10770\n",
            "        oneshot      12290\n",
            "        zeroshot     11434\n",
            "Name: num_words, dtype: int64\n"
          ]
        }
      ]
    },
    {
      "cell_type": "code",
      "source": [
        "grouped_synth_sarc_unique = synth_sarc_unique.groupby(['llm', 'prompting']).size()\n",
        "print(\"\\nNumber of rows per indicated columns in synth_sarc_unique:\")\n",
        "print(grouped_synth_sarc_unique)"
      ],
      "metadata": {
        "colab": {
          "base_uri": "https://localhost:8080/"
        },
        "id": "tJxn-L_BwxYT",
        "outputId": "3942b430-75e4-4d5f-fba8-6236f3518165"
      },
      "execution_count": null,
      "outputs": [
        {
          "output_type": "stream",
          "name": "stdout",
          "text": [
            "\n",
            "Number of rows per indicated columns in synth_sarc_unique:\n",
            "llm     prompting\n",
            "gemini  fewshot       910\n",
            "        oneshot      1000\n",
            "        zeroshot     1004\n",
            "openai  fewshot       767\n",
            "        oneshot       928\n",
            "        zeroshot      859\n",
            "dtype: int64\n"
          ]
        }
      ]
    },
    {
      "cell_type": "code",
      "source": [
        "print(synth_sarc_unique['num_words'].sum())\n",
        "print(synth_sarc_unique[synth_sarc_unique['llm'] == 'openai']['num_words'].sum())\n",
        "print(synth_sarc_unique[synth_sarc_unique['llm'] == 'gemini']['num_words'].sum())"
      ],
      "metadata": {
        "colab": {
          "base_uri": "https://localhost:8080/"
        },
        "id": "-ZrkPapfxIDd",
        "outputId": "7c71c4d8-caf9-471c-f0a0-ec16d914279b"
      },
      "execution_count": null,
      "outputs": [
        {
          "output_type": "stream",
          "name": "stdout",
          "text": [
            "71120\n",
            "34494\n",
            "36626\n"
          ]
        }
      ]
    },
    {
      "cell_type": "code",
      "source": [
        "print(real_sarc['num_words'].sum())"
      ],
      "metadata": {
        "id": "TyHg2LSrAUXO"
      },
      "execution_count": null,
      "outputs": []
    },
    {
      "cell_type": "code",
      "source": [
        "import random\n",
        "random.seed(28)\n",
        "\n",
        "# Separate gemini and openai\n",
        "gemini_subset = synth_sarc_unique[synth_sarc_unique['llm'] == 'gemini']\n",
        "openai_subset = synth_sarc_unique[synth_sarc_unique['llm'] == 'openai']\n",
        "\n",
        "# Initialize dictionaries to store sampled rows and word counts for each prompting strategy\n",
        "gemini_sampled = {'zeroshot': [], 'oneshot': [], 'fewshot': []}\n",
        "openai_sampled = {'zeroshot': [], 'oneshot': [], 'fewshot': []}\n",
        "\n",
        "def sample_rows(subset, sampled_dict):\n",
        "    word_counts = {'zeroshot': 0, 'oneshot': 0, 'fewshot': 0}\n",
        "    rows = subset.index.tolist()  # Get indices of rows in the subset\n",
        "    random.shuffle(rows)  # Shuffle the indices to perform random sampling\n",
        "    for index in rows:\n",
        "        row = subset.loc[index]  # Retrieve the row using the index\n",
        "        prompting_strategy = row['prompting']\n",
        "        if word_counts[prompting_strategy] + row['num_words'] <= 10001:\n",
        "            sampled_dict[prompting_strategy].append(row)\n",
        "            word_counts[prompting_strategy] += row['num_words']\n",
        "        if all(count == 10000 for count in word_counts.values()):\n",
        "            break\n",
        "\n",
        "# Sample for gemini\n",
        "sample_rows(gemini_subset, gemini_sampled)\n",
        "\n",
        "# Sample for openai\n",
        "sample_rows(openai_subset, openai_sampled)\n",
        "\n",
        "# Concatenate sampled rows into final samples\n",
        "gemini_final_sample = pd.concat([pd.DataFrame(sampled_list) for sampled_list in gemini_sampled.values()])\n",
        "openai_final_sample = pd.concat([pd.DataFrame(sampled_list) for sampled_list in openai_sampled.values()])\n",
        "\n",
        "# Reset index for final samples\n",
        "gemini_final_sample.reset_index(drop=True, inplace=True)\n",
        "openai_final_sample.reset_index(drop=True, inplace=True)\n",
        "\n",
        "print(gemini_final_sample.groupby('prompting')['num_words'].sum())\n",
        "print(gemini_final_sample['num_words'].sum())\n",
        "print(openai_final_sample.groupby('prompting')['num_words'].sum())\n",
        "print(openai_final_sample['num_words'].sum())"
      ],
      "metadata": {
        "colab": {
          "base_uri": "https://localhost:8080/"
        },
        "id": "PGvm_e8s0LsR",
        "outputId": "c51dbdae-44e5-4566-df78-d5d77f5891a7"
      },
      "execution_count": null,
      "outputs": [
        {
          "output_type": "stream",
          "name": "stdout",
          "text": [
            "prompting\n",
            "fewshot     10000\n",
            "oneshot     10001\n",
            "zeroshot    10001\n",
            "Name: num_words, dtype: int64\n",
            "30002\n",
            "prompting\n",
            "fewshot     10000\n",
            "oneshot     10001\n",
            "zeroshot    10001\n",
            "Name: num_words, dtype: int64\n",
            "30002\n"
          ]
        }
      ]
    },
    {
      "cell_type": "code",
      "source": [
        "import random\n",
        "\n",
        "def sample_rows_real_sarc(subset, total_word_limit, seed=None):\n",
        "    if seed is not None:\n",
        "        random.seed(seed)\n",
        "    word_counts = {'telegram': 0, 'twitter': 0}\n",
        "    rows = subset.index.tolist()\n",
        "    random.shuffle(rows)\n",
        "    sampled_rows = []\n",
        "    for index in rows:\n",
        "        row = subset.loc[index]\n",
        "        source = row['source'].lower()\n",
        "        if word_counts[source] + row['num_words'] <= total_word_limit:\n",
        "            sampled_rows.append(row)\n",
        "            word_counts[source] += row['num_words']\n",
        "        if all(count == total_word_limit for count in word_counts.values()):\n",
        "            break\n",
        "    return pd.DataFrame(sampled_rows)\n",
        "\n",
        "\n",
        "combined_sample = sample_rows_real_sarc(real_sarc, total_word_limit=15001, seed=2)\n",
        "\n",
        "\n",
        "print(\"Combined Sample Size:\", len(combined_sample))\n",
        "print(combined_sample['num_words'].sum())\n",
        "print(combined_sample.groupby('source')['num_words'].sum())"
      ],
      "metadata": {
        "colab": {
          "base_uri": "https://localhost:8080/"
        },
        "id": "fRbG7vDe1nuO",
        "outputId": "f992c432-b38a-4e68-b0f5-603bef4ae032"
      },
      "execution_count": null,
      "outputs": [
        {
          "output_type": "stream",
          "name": "stdout",
          "text": [
            "Combined Sample Size: 2158\n",
            "30002\n",
            "source\n",
            "Telegram    15001\n",
            "Twitter     15001\n",
            "Name: num_words, dtype: int64\n"
          ]
        }
      ]
    },
    {
      "cell_type": "code",
      "source": [
        "openai_final_sample['is_sarcastic'] = 1\n",
        "gemini_final_sample['is_sarcastic'] = 1"
      ],
      "metadata": {
        "id": "wHOVopJUC2bM"
      },
      "execution_count": null,
      "outputs": []
    },
    {
      "cell_type": "code",
      "source": [
        "gemini_final_sample.to_csv(\"gemini_sample.csv\")\n",
        "openai_final_sample.to_csv(\"openai_sample.csv\")\n",
        "combined_sample.to_csv(\"real_sarc_sample.csv\")"
      ],
      "metadata": {
        "id": "548luE0I47Bm"
      },
      "execution_count": null,
      "outputs": []
    },
    {
      "cell_type": "code",
      "source": [],
      "metadata": {
        "id": "3a1QgcSADlnT"
      },
      "execution_count": null,
      "outputs": []
    }
  ]
}