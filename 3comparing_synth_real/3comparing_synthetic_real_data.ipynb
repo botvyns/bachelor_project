{
  "metadata": {
    "colab": {
      "provenance": [],
      "gpuType": "T4"
    },
    "kernelspec": {
      "name": "python3",
      "display_name": "Python 3",
      "language": "python"
    },
    "language_info": {
      "name": "python",
      "version": "3.10.13",
      "mimetype": "text/x-python",
      "codemirror_mode": {
        "name": "ipython",
        "version": 3
      },
      "pygments_lexer": "ipython3",
      "nbconvert_exporter": "python",
      "file_extension": ".py"
    },
    "kaggle": {
      "accelerator": "none",
      "dataSources": [
        {
          "sourceId": 8183957,
          "sourceType": "datasetVersion",
          "datasetId": 4845726
        },
        {
          "sourceId": 8242789,
          "sourceType": "datasetVersion",
          "datasetId": 4889853
        }
      ],
      "dockerImageVersionId": 30699,
      "isInternetEnabled": true,
      "language": "python",
      "sourceType": "notebook",
      "isGpuEnabled": false
    }
  },
  "nbformat_minor": 0,
  "nbformat": 4,
  "cells": [
    {
      "cell_type": "code",
      "source": [
        "%%capture\n",
        "!pip install stanza"
      ],
      "metadata": {
        "id": "O45w-U7-wS0f",
        "execution": {
          "iopub.status.busy": "2024-04-26T20:38:46.074744Z",
          "iopub.execute_input": "2024-04-26T20:38:46.07541Z",
          "iopub.status.idle": "2024-04-26T20:39:03.019682Z",
          "shell.execute_reply.started": "2024-04-26T20:38:46.075369Z",
          "shell.execute_reply": "2024-04-26T20:39:03.018387Z"
        },
        "trusted": true
      },
      "execution_count": null,
      "outputs": []
    },
    {
      "cell_type": "code",
      "source": [
        "import pandas as pd\n",
        "\n",
        "gemini = pd.read_csv(\"/kaggle/input/samples-new/gemini_sample.csv\")\n",
        "openai = pd.read_csv(\"/kaggle/input/samples-new/openai_sample.csv\")\n",
        "real_sarc = pd.read_csv(\"/kaggle/input/samples-new/real_sarc_sample.csv\")"
      ],
      "metadata": {
        "id": "rB4WBjnVtyxR",
        "execution": {
          "iopub.status.busy": "2024-04-26T21:11:59.780738Z",
          "iopub.execute_input": "2024-04-26T21:11:59.781113Z",
          "iopub.status.idle": "2024-04-26T21:11:59.991232Z",
          "shell.execute_reply.started": "2024-04-26T21:11:59.781086Z",
          "shell.execute_reply": "2024-04-26T21:11:59.990386Z"
        },
        "trusted": true
      },
      "execution_count": null,
      "outputs": []
    },
    {
      "cell_type": "code",
      "source": [
        "gemini"
      ],
      "metadata": {
        "execution": {
          "iopub.status.busy": "2024-04-26T21:12:01.469605Z",
          "iopub.execute_input": "2024-04-26T21:12:01.470218Z",
          "iopub.status.idle": "2024-04-26T21:12:01.486259Z",
          "shell.execute_reply.started": "2024-04-26T21:12:01.470188Z",
          "shell.execute_reply": "2024-04-26T21:12:01.485215Z"
        },
        "trusted": true,
        "id": "LHTNRu7tneIA"
      },
      "execution_count": null,
      "outputs": []
    },
    {
      "cell_type": "code",
      "source": [
        "import ast\n",
        "\n",
        "# 'words' column contains strings representing lists\n",
        "real_sarc['tokens'] = real_sarc['tokens'].apply(ast.literal_eval)\n",
        "gemini['tokens'] = gemini['tokens'].apply(ast.literal_eval)\n",
        "openai['tokens'] = openai['tokens'].apply(ast.literal_eval)"
      ],
      "metadata": {
        "id": "Bnqsy30z_qag",
        "execution": {
          "iopub.status.busy": "2024-04-27T07:51:44.630193Z",
          "iopub.execute_input": "2024-04-27T07:51:44.630554Z",
          "iopub.status.idle": "2024-04-27T07:51:44.915102Z",
          "shell.execute_reply.started": "2024-04-27T07:51:44.630527Z",
          "shell.execute_reply": "2024-04-27T07:51:44.913905Z"
        },
        "trusted": true
      },
      "execution_count": null,
      "outputs": []
    },
    {
      "cell_type": "code",
      "source": [
        "import stanza\n",
        "\n",
        "uk_nlp = stanza.Pipeline(lang='uk', verbose=False)\n",
        "\n",
        "def lemmatize(cleared_text):\n",
        "    lemmas = []\n",
        "    for sent in uk_nlp(' '.join(cleared_text)).sentences:\n",
        "        for word in sent.words:\n",
        "            lemmas.append(word.lemma)\n",
        "    return lemmas"
      ],
      "metadata": {
        "id": "leJ4UwDJwZPu",
        "execution": {
          "iopub.status.busy": "2024-04-26T21:13:34.438962Z",
          "iopub.execute_input": "2024-04-26T21:13:34.43934Z",
          "iopub.status.idle": "2024-04-26T21:13:37.274468Z",
          "shell.execute_reply.started": "2024-04-26T21:13:34.439312Z",
          "shell.execute_reply": "2024-04-26T21:13:37.273596Z"
        },
        "trusted": true
      },
      "execution_count": null,
      "outputs": []
    },
    {
      "cell_type": "code",
      "source": [
        "print(gemini.groupby('prompting')['num_words'].sum())\n",
        "print(gemini['num_words'].sum(), end='\\n\\n')\n",
        "print(openai.groupby('prompting')['num_words'].sum())\n",
        "print(openai['num_words'].sum(), end='\\n\\n')\n",
        "print(real_sarc.groupby('source')['num_words'].sum(), end='\\n\\n')\n",
        "print(real_sarc['num_words'].sum())"
      ],
      "metadata": {
        "id": "Uzs7d0MSuQa1",
        "execution": {
          "iopub.status.busy": "2024-04-26T21:12:44.649891Z",
          "iopub.execute_input": "2024-04-26T21:12:44.650459Z",
          "iopub.status.idle": "2024-04-26T21:12:44.670725Z",
          "shell.execute_reply.started": "2024-04-26T21:12:44.650428Z",
          "shell.execute_reply": "2024-04-26T21:12:44.669598Z"
        },
        "trusted": true
      },
      "execution_count": null,
      "outputs": []
    },
    {
      "cell_type": "code",
      "source": [
        "lemmatize(openai['tokens'][3])"
      ],
      "metadata": {
        "execution": {
          "iopub.status.busy": "2024-04-26T21:13:47.211305Z",
          "iopub.execute_input": "2024-04-26T21:13:47.21179Z",
          "iopub.status.idle": "2024-04-26T21:13:47.772811Z",
          "shell.execute_reply.started": "2024-04-26T21:13:47.211753Z",
          "shell.execute_reply": "2024-04-26T21:13:47.771605Z"
        },
        "trusted": true,
        "id": "6ATjEsFrneIJ"
      },
      "execution_count": null,
      "outputs": []
    },
    {
      "cell_type": "code",
      "source": [
        "gemini['lemmatized_words'] = gemini['tokens'].apply(lemmatize)\n",
        "openai['lemmatized_words'] = openai['tokens'].apply(lemmatize)\n",
        "real_sarc['lemmatized_words'] = real_sarc['tokens'].apply(lemmatize)"
      ],
      "metadata": {
        "id": "1zZFds1W8XBV",
        "execution": {
          "iopub.status.busy": "2024-04-26T21:15:22.600995Z",
          "iopub.execute_input": "2024-04-26T21:15:22.601438Z",
          "iopub.status.idle": "2024-04-26T21:54:53.28026Z",
          "shell.execute_reply.started": "2024-04-26T21:15:22.601405Z",
          "shell.execute_reply": "2024-04-26T21:54:53.279257Z"
        },
        "trusted": true
      },
      "execution_count": null,
      "outputs": []
    },
    {
      "cell_type": "code",
      "source": [
        "def calculate_statistics(df):\n",
        "    V_wordforms_unique = len(set(wordform for sublist in df['tokens'] for wordform in sublist))\n",
        "    V_lemmas_unique = len(set(lemma for sublist in df['lemmatized_words'] for lemma in sublist))\n",
        "    N_wordforms = sum(len(sublist) for sublist in df['tokens'])\n",
        "    vocab_richness = V_lemmas_unique / N_wordforms\n",
        "    avg_word_freq = N_wordforms / V_lemmas_unique\n",
        "    V1 = sum(1 for sublist in df['tokens'] for wordform in sublist if sum(1 for s in df['tokens'] if wordform in s) == 1)\n",
        "    richness_for_text = V1 / N_wordforms\n",
        "    richness_for_vocab = V1 / V_lemmas_unique\n",
        "    V10 = sum(1 for sublist in df['tokens'] for wordform in sublist if sum(1 for s in df['tokens'] if wordform in s) >= 10)\n",
        "    concentration_index_text = V10 / N_wordforms\n",
        "    concentration_index_vocab = V10 / V_lemmas_unique\n",
        "\n",
        "    return {\n",
        "        'V_wordforms_unique': round(V_wordforms_unique,3),\n",
        "        'V_lemmas_unique': round(V_lemmas_unique,3),\n",
        "        'vocab_richness': round(vocab_richness,3),\n",
        "        'avg_word_freq': round(avg_word_freq,3),\n",
        "        'V1': round(V1,3),\n",
        "        'richness_for_text': round(richness_for_text,3),\n",
        "        'richness_for_vocab': round(richness_for_vocab,3),\n",
        "        'V10': round(V10,3),\n",
        "        'concentration_index_text': round(concentration_index_text,3),\n",
        "        'concentration_index_vocab': round(concentration_index_vocab, 3)\n",
        "    }\n",
        "\n",
        "# Calculate statistics for gemini\n",
        "gemini_stats = calculate_statistics(gemini)\n",
        "\n",
        "# Calculate statistics for openai\n",
        "openai_stats = calculate_statistics(openai)\n",
        "\n",
        "# Calculate statistics for real_sac\n",
        "real_sac_stats = calculate_statistics(real_sarc)"
      ],
      "metadata": {
        "id": "YFMJqwqEStBi",
        "execution": {
          "iopub.status.busy": "2024-04-27T07:51:53.916891Z",
          "iopub.execute_input": "2024-04-27T07:51:53.917348Z",
          "iopub.status.idle": "2024-04-27T07:54:31.688066Z",
          "shell.execute_reply.started": "2024-04-27T07:51:53.917309Z",
          "shell.execute_reply": "2024-04-27T07:54:31.687042Z"
        },
        "trusted": true
      },
      "execution_count": null,
      "outputs": []
    },
    {
      "cell_type": "code",
      "source": [
        "df_stats = pd.DataFrame([gemini_stats, openai_stats, real_sac_stats], index=['gemini', 'openai', 'real_sac'])\n",
        "\n",
        "df_stats = df_stats.T\n",
        "\n",
        "df_stats"
      ],
      "metadata": {
        "execution": {
          "iopub.status.busy": "2024-04-27T07:54:35.451433Z",
          "iopub.execute_input": "2024-04-27T07:54:35.451794Z",
          "iopub.status.idle": "2024-04-27T07:54:35.471658Z",
          "shell.execute_reply.started": "2024-04-27T07:54:35.451767Z",
          "shell.execute_reply": "2024-04-27T07:54:35.470432Z"
        },
        "trusted": true,
        "id": "O3qN67-KneIc"
      },
      "execution_count": null,
      "outputs": []
    },
    {
      "cell_type": "code",
      "source": [
        "# def calculate_attributes(df):\n",
        "#     # Calculate sum of nouns and ads\n",
        "#     sum_nouns = sum(1 for pos_list in df['pos_tags'] if 'NOUN' in pos_list)\n",
        "#     sum_ads = sum(1 for pos_list in df['pos_tags'] if 'ADJ' in pos_list)\n",
        "\n",
        "#     # Calculate sum of adverbs and verbs\n",
        "#     sum_adverbs = sum(1 for pos_list in df['pos_tags'] if 'ADV' in pos_list)\n",
        "#     sum_verbs = sum(1 for pos_list in df['pos_tags'] if 'VERB' in pos_list)\n",
        "\n",
        "#     # Calculate attributes\n",
        "#     noun_attribute = sum_nouns / sum_ads if sum_ads != 0 else 0\n",
        "#     verb_attribute = sum_adverbs / sum_verbs if sum_verbs != 0 else 0\n",
        "#     nomination_degree = sum_nouns / sum_verbs if sum_verbs != 0 else 0\n",
        "\n",
        "#     return {\n",
        "#         'noun_attribute': noun_attribute,\n",
        "#         'verb_attribute': verb_attribute,\n",
        "#         'nomination_degree': nomination_degree\n",
        "#     }\n",
        "\n",
        "# # Calculate attributes for gemini DataFrame\n",
        "# gemini_attributes = calculate_attributes(gemini)\n",
        "\n",
        "# # Calculate attributes for openai DataFrame\n",
        "# openai_attributes = calculate_attributes(openai)\n",
        "\n",
        "# # Calculate attributes for real_sac DataFrame\n",
        "# real_sarc_attributes = calculate_attributes(real_sarc)\n",
        "\n",
        "# import pandas as pd\n",
        "\n",
        "# # Create DataFrame from dictionaries\n",
        "# df_stats = pd.DataFrame([gemini_attributes, openai_attributes, real_sarc_attributes], index=['gemini', 'openai', 'real_sac'])\n",
        "\n",
        "# # Transpose the DataFrame for better visualization\n",
        "# df_stats = df_stats.T\n",
        "\n",
        "# # Display the DataFrame\n",
        "# df_stats"
      ],
      "metadata": {
        "execution": {
          "iopub.status.busy": "2024-04-21T12:22:55.488532Z",
          "iopub.execute_input": "2024-04-21T12:22:55.489192Z",
          "iopub.status.idle": "2024-04-21T12:22:55.509485Z",
          "shell.execute_reply.started": "2024-04-21T12:22:55.489161Z",
          "shell.execute_reply": "2024-04-21T12:22:55.508487Z"
        },
        "trusted": true,
        "id": "PJV0ec4DneIf"
      },
      "execution_count": null,
      "outputs": []
    },
    {
      "cell_type": "code",
      "source": [
        "%%capture\n",
        "!python -m spacy download uk_core_news_lg"
      ],
      "metadata": {
        "execution": {
          "iopub.status.busy": "2024-04-27T07:54:59.809279Z",
          "iopub.execute_input": "2024-04-27T07:54:59.80982Z",
          "iopub.status.idle": "2024-04-27T07:55:32.367827Z",
          "shell.execute_reply.started": "2024-04-27T07:54:59.80978Z",
          "shell.execute_reply": "2024-04-27T07:55:32.366181Z"
        },
        "trusted": true,
        "id": "-vo4UF_ZneIh"
      },
      "execution_count": null,
      "outputs": []
    },
    {
      "cell_type": "code",
      "source": [
        "import spacy\n",
        "\n",
        "nlp_uk = spacy.load('uk_core_news_lg')\n",
        "\n",
        "def ner_search(text):\n",
        "    doc = nlp_uk(' '.join(text))\n",
        "    entities = [(ent.text.lower(), ent.label_) for ent in doc.ents]\n",
        "    return entities\n",
        "\n",
        "gemini['entities'] = gemini['lemmatized_words'].apply(ner_search)\n",
        "openai['entities'] = openai['lemmatized_words'].apply(ner_search)\n",
        "real_sarc['entities'] = real_sarc['lemmatized_words'].apply(ner_search)"
      ],
      "metadata": {
        "execution": {
          "iopub.status.busy": "2024-04-27T07:55:32.371016Z",
          "iopub.execute_input": "2024-04-27T07:55:32.371463Z",
          "iopub.status.idle": "2024-04-27T07:57:15.421521Z",
          "shell.execute_reply.started": "2024-04-27T07:55:32.371425Z",
          "shell.execute_reply": "2024-04-27T07:57:15.420173Z"
        },
        "trusted": true,
        "id": "TGyuMDyJneIi"
      },
      "execution_count": null,
      "outputs": []
    },
    {
      "cell_type": "code",
      "source": [
        "with open(\"/content/stopwords_ua.txt\") as file:\n",
        "    stops = []\n",
        "    for word in file.readlines():\n",
        "        stops.append(word.strip())"
      ],
      "metadata": {
        "execution": {
          "iopub.status.busy": "2024-04-27T08:03:13.239855Z",
          "iopub.execute_input": "2024-04-27T08:03:13.240256Z",
          "iopub.status.idle": "2024-04-27T08:03:13.249032Z",
          "shell.execute_reply.started": "2024-04-27T08:03:13.240226Z",
          "shell.execute_reply": "2024-04-27T08:03:13.247489Z"
        },
        "trusted": true,
        "id": "1vuV5oOXneIj"
      },
      "execution_count": null,
      "outputs": []
    },
    {
      "cell_type": "code",
      "source": [
        "from collections import Counter\n",
        "\n",
        "def find_entities_or_ngrams(df, column_name):\n",
        "    all_items = []\n",
        "    for row in df[column_name]:\n",
        "        all_items.extend(row)\n",
        "    item_counts = Counter(all_items)\n",
        "    total_items = sum(item_counts.values())\n",
        "    normalized_frequencies = [(item, round(freq / total_items, 5)) for item, freq in item_counts.items()]\n",
        "    sorted_frequencies = sorted(normalized_frequencies, key=lambda x: x[1], reverse=True)\n",
        "    return sorted_frequencies"
      ],
      "metadata": {
        "execution": {
          "iopub.status.busy": "2024-04-27T08:06:48.25278Z",
          "iopub.execute_input": "2024-04-27T08:06:48.253208Z",
          "iopub.status.idle": "2024-04-27T08:06:48.261486Z",
          "shell.execute_reply.started": "2024-04-27T08:06:48.253136Z",
          "shell.execute_reply": "2024-04-27T08:06:48.260355Z"
        },
        "trusted": true,
        "id": "Y5LxkecKneIk"
      },
      "execution_count": null,
      "outputs": []
    },
    {
      "cell_type": "code",
      "source": [
        "import nltk\n",
        "from nltk.util import ngrams\n",
        "\n",
        "def generate_ngrams(words, n):\n",
        "    if len(words) >= n:\n",
        "        return list(ngrams(words, n))\n",
        "    else:\n",
        "        return []"
      ],
      "metadata": {
        "execution": {
          "iopub.status.busy": "2024-04-27T07:57:58.159869Z",
          "iopub.execute_input": "2024-04-27T07:57:58.16025Z",
          "iopub.status.idle": "2024-04-27T07:57:58.166036Z",
          "shell.execute_reply.started": "2024-04-27T07:57:58.160221Z",
          "shell.execute_reply": "2024-04-27T07:57:58.164801Z"
        },
        "trusted": true,
        "id": "o-ByFd1CneIl"
      },
      "execution_count": null,
      "outputs": []
    },
    {
      "cell_type": "code",
      "source": [
        "gemini['bigrams'] = gemini['lemmatized_words'].apply(lambda x: generate_ngrams(x, 2))\n",
        "openai['bigrams'] = openai['lemmatized_words'].apply(lambda x: generate_ngrams(x,  2))\n",
        "real_sarc['bigrams'] = real_sarc['lemmatized_words'].apply(lambda x: generate_ngrams(x, 2))"
      ],
      "metadata": {
        "execution": {
          "iopub.status.busy": "2024-04-27T07:58:07.583463Z",
          "iopub.execute_input": "2024-04-27T07:58:07.583976Z",
          "iopub.status.idle": "2024-04-27T07:58:07.661634Z",
          "shell.execute_reply.started": "2024-04-27T07:58:07.583928Z",
          "shell.execute_reply": "2024-04-27T07:58:07.660718Z"
        },
        "trusted": true,
        "id": "rUhFPSvineIm"
      },
      "execution_count": null,
      "outputs": []
    },
    {
      "cell_type": "code",
      "source": [
        "gemini['trigrams'] = gemini['lemmatized_words'].apply(lambda x: generate_ngrams(x, 3))\n",
        "openai['trigrams'] = openai['lemmatized_words'].apply(lambda x: generate_ngrams(x,  3))\n",
        "real_sarc['trigrams'] = real_sarc['lemmatized_words'].apply(lambda x: generate_ngrams(x, 3))"
      ],
      "metadata": {
        "execution": {
          "iopub.status.busy": "2024-04-27T07:58:22.55233Z",
          "iopub.execute_input": "2024-04-27T07:58:22.55272Z",
          "iopub.status.idle": "2024-04-27T07:58:22.617771Z",
          "shell.execute_reply.started": "2024-04-27T07:58:22.55269Z",
          "shell.execute_reply": "2024-04-27T07:58:22.616591Z"
        },
        "trusted": true,
        "id": "R7wlkVMGneIr"
      },
      "execution_count": null,
      "outputs": []
    },
    {
      "cell_type": "code",
      "source": [
        "all = find_entities_or_ngrams(gemini, 'bigrams')"
      ],
      "metadata": {
        "execution": {
          "iopub.status.busy": "2024-04-27T08:02:59.046608Z",
          "iopub.execute_input": "2024-04-27T08:02:59.047002Z",
          "iopub.status.idle": "2024-04-27T08:02:59.084647Z",
          "shell.execute_reply.started": "2024-04-27T08:02:59.046972Z",
          "shell.execute_reply": "2024-04-27T08:02:59.083417Z"
        },
        "trusted": true,
        "id": "QXsV_27eneIs"
      },
      "execution_count": null,
      "outputs": []
    },
    {
      "cell_type": "code",
      "source": [
        "def filter_ngrams_with_no_stops(ngrams, top_n=20):\n",
        "    filtered_tuples = []\n",
        "    for tup in ngrams:\n",
        "        if not any(word in stops for word in tup[0]):\n",
        "            filtered_tuples.append(tup)\n",
        "    return sorted(filtered_tuples, key=lambda x: x[1], reverse=True)[:top_n]"
      ],
      "metadata": {
        "execution": {
          "iopub.status.busy": "2024-04-27T08:09:43.850161Z",
          "iopub.execute_input": "2024-04-27T08:09:43.851409Z",
          "iopub.status.idle": "2024-04-27T08:09:43.857828Z",
          "shell.execute_reply.started": "2024-04-27T08:09:43.851361Z",
          "shell.execute_reply": "2024-04-27T08:09:43.856832Z"
        },
        "trusted": true,
        "id": "6MQndXMwneIu"
      },
      "execution_count": null,
      "outputs": []
    },
    {
      "cell_type": "code",
      "source": [
        "filter_ngrams_with_no_stops(find_entities_or_ngrams(gemini\n",
        "                                                    , 'entities'))"
      ],
      "metadata": {
        "execution": {
          "iopub.status.busy": "2024-04-27T08:10:17.316948Z",
          "iopub.execute_input": "2024-04-27T08:10:17.317372Z",
          "iopub.status.idle": "2024-04-27T08:10:18.086498Z",
          "shell.execute_reply.started": "2024-04-27T08:10:17.317338Z",
          "shell.execute_reply": "2024-04-27T08:10:18.085024Z"
        },
        "trusted": true,
        "id": "54BYWwsMneIv",
        "colab": {
          "base_uri": "https://localhost:8080/"
        },
        "outputId": "e8d343af-60b0-48ed-d243-030505f832c9"
      },
      "execution_count": null,
      "outputs": [
        {
          "output_type": "execute_result",
          "data": {
            "text/plain": [
              "[(('росія', 'LOC'), 0.5528),\n",
              " (('україна', 'LOC'), 0.10559),\n",
              " (('путін', 'PER'), 0.0559),\n",
              " (('крим', 'LOC'), 0.03727),\n",
              " (('реаліт шоя', 'PER'), 0.01863),\n",
              " (('сша', 'LOC'), 0.01863),\n",
              " (('шоя', 'ORG'), 0.01242),\n",
              " (('марс', 'LOC'), 0.01242),\n",
              " (('донбас', 'LOC'), 0.01242),\n",
              " (('київ', 'LOC'), 0.01242),\n",
              " (('євробачення', 'ORG'), 0.01242),\n",
              " (('оплот мир', 'PER'), 0.01242),\n",
              " (('бог', 'PER'), 0.00621),\n",
              " (('поппінс', 'ORG'), 0.00621),\n",
              " (('вулиця вітряно', 'LOC'), 0.00621),\n",
              " (('джексон', 'PER'), 0.00621),\n",
              " (('ілон маска', 'PER'), 0.00621),\n",
              " (('англія', 'LOC'), 0.00621),\n",
              " (('матюка', 'PER'), 0.00621),\n",
              " (('мема', 'PER'), 0.00621)]"
            ]
          },
          "metadata": {},
          "execution_count": 32
        }
      ]
    },
    {
      "cell_type": "code",
      "source": [
        "# gemini.to_csv(\"gemini_sample_lemmatized_ents_ngrams.csv\")\n",
        "# openai.to_csv(\"openai_sample_lemmatized_ents_ngrams.csv\")\n",
        "# real_sarc.to_csv(\"real_sarc_sample_lemmatized_ents_ngrams.csv\")"
      ],
      "metadata": {
        "execution": {
          "iopub.status.busy": "2024-04-27T08:12:14.933254Z",
          "iopub.execute_input": "2024-04-27T08:12:14.933663Z",
          "iopub.status.idle": "2024-04-27T08:12:15.600274Z",
          "shell.execute_reply.started": "2024-04-27T08:12:14.933634Z",
          "shell.execute_reply": "2024-04-27T08:12:15.59922Z"
        },
        "trusted": true,
        "id": "mqKeGuykneIS"
      },
      "execution_count": null,
      "outputs": []
    },
    {
      "cell_type": "code",
      "source": [
        "# bigram_frequencies_real_sarc = [(('внутрішній', 'джерело'), 0.00022),\n",
        "#  (('какая', 'разніца'), 0.00018),\n",
        "#  (('український', 'мова'), 0.00014),\n",
        "#  (('голий', 'босий'), 0.00014),\n",
        "#  (('герой', 'Україна'), 0.00014),\n",
        "#  (('військовий', 'об’єкт'), 0.00011),\n",
        "#  (('брати', 'хабар'), 0.00011),\n",
        "#  (('ракета', 'прилетіти'), 0.00011),\n",
        "#  (('російський', 'мова'), 0.00011),\n",
        "#  (('путін', 'напасти'), 0.00011)]\n",
        "\n",
        "# bigram_frequencies_gemini = [(('нетерпіння', 'чекати'), 0.00402),\n",
        "#  (('найкращий', 'спосіб'), 0.00185),\n",
        "#  (('громадський', 'транспорт'), 0.00094),\n",
        "#  (('радість', 'допомогти'), 0.00087),\n",
        "#  (('улюблений', 'вид'), 0.00069),\n",
        "#  (('обожнювати', 'стояти'), 0.00065),\n",
        "#  (('радість', 'піти'), 0.00065),\n",
        "#  (('телефон', 'розряджатися'), 0.00062),\n",
        "#  (('комп’ютер', 'зависати'), 0.00058),\n",
        "#  (('будильник', 'дзвонити'), 0.00054)]\n",
        "\n",
        "# bigram_frequencies_openai = [(('п’ять', 'хвилина'), 0.00065),\n",
        "#  (('останній', 'хвилина'), 0.00061),\n",
        "#  (('цілий', 'день'), 0.00061),\n",
        "#  (('електронний', 'лист'), 0.00054),\n",
        "#  (('сусід', 'вирішити'), 0.0005),\n",
        "#  (('година', 'пік'), 0.0005),\n",
        "#  (('найкращий', 'спосіб'), 0.0005),\n",
        "#  (('вирішити', 'влаштувати'), 0.00047),\n",
        "#  (('улюблений', 'серіал'), 0.0004),\n",
        "#  (('чудовий', 'ідея'), 0.0004)]\n",
        "\n",
        "# entities_real_sarc = [(('україна', 'LOC'), 0.10438),\n",
        "#  (('зеленський', 'PER'), 0.03608),\n",
        "#  (('росія', 'LOC'), 0.03351),\n",
        "#  (('порошенко', 'PER'), 0.02835),\n",
        "#  (('путін', 'PER'), 0.01933),\n",
        "#  (('київ', 'LOC'), 0.01804),\n",
        "#  (('сша', 'LOC'), 0.01675),\n",
        "#  (('арестович', 'PER'), 0.01546),\n",
        "#  (('європа', 'LOC'), 0.01289),\n",
        "#  (('крим', 'LOC'), 0.01289)]\n",
        "\n",
        "# entities_gemini = [(('росія', 'LOC'), 0.5528),\n",
        "#  (('україна', 'LOC'), 0.10559),\n",
        "#  (('путін', 'PER'), 0.0559),\n",
        "#  (('крим', 'LOC'), 0.03727),\n",
        "#  (('сша', 'LOC'), 0.01863),\n",
        "#  (('марс', 'LOC'), 0.01242),\n",
        "#  (('донбас', 'LOC'), 0.01242),\n",
        "#  (('київ', 'LOC'), 0.01242),\n",
        "#  (('євробачення', 'ORG'), 0.01242),\n",
        "#  (('бог', 'PER'), 0.00621)]"
      ],
      "metadata": {
        "id": "yt4Vs0Pjy-00"
      },
      "execution_count": null,
      "outputs": []
    },
    {
      "cell_type": "code",
      "source": [
        "import matplotlib.pyplot as plt\n",
        "import numpy as np\n",
        "\n",
        "def plot_top_ngrams_or_entities(object_freq):\n",
        "  sorted_entities_gemini = sorted(object_freq, key=lambda x: x[1], reverse=True)\n",
        "  bigrams = [bigram[0] for bigram in sorted_entities_gemini]\n",
        "  frequencies = [freq for _, freq in sorted_entities_gemini]\n",
        "\n",
        "  colors = plt.cm.Greens(np.linspace(0.9, 0.4, len(bigrams)))\n",
        "  # Plotting\n",
        "  plt.figure(figsize=(10, 6))\n",
        "  bars = plt.barh(range(len(bigrams)), frequencies, color=colors)\n",
        "  for i, bar in enumerate(bars):\n",
        "      plt.text(bar.get_width(), bar.get_y() + bar.get_height()/2, f'{frequencies[i]:.5f}',\n",
        "              va='center', ha='left', fontsize=10, color='black')\n",
        "\n",
        "  plt.yticks(range(len(bigrams)), [f'{bigram[0]} {bigram[1]}' for bigram in bigrams], fontsize=10)\n",
        "  plt.xlabel('Відносна частота', fontsize=12)\n",
        "  plt.ylabel('Іменована сутність, тип', fontsize=12)\n",
        "  plt.title('10 найчастотніших іменованих сутностей, синтетичні дані з Gemini', fontsize=14)\n",
        "  plt.gca().invert_yaxis()\n",
        "  plt.xlim(0, max(frequencies)*1.1)\n",
        "  plt.xticks(fontsize=10)\n",
        "  plt.tight_layout()\n",
        "  plt.show()\n",
        "\n",
        "plot_top_ngrams_or_entities(entities_gemini)"
      ],
      "metadata": {
        "id": "rs-scMUlneIw",
        "colab": {
          "base_uri": "https://localhost:8080/",
          "height": 624
        },
        "outputId": "8bd84cd0-5305-436b-acc5-426ed1cb6cad"
      },
      "execution_count": null,
      "outputs": [
        {
          "output_type": "display_data",
          "data": {
            "text/plain": [
              "<Figure size 1000x600 with 1 Axes>"
            ],
            "image/png": "[encoded data removed]"
          },
          "metadata": {}
        },
        {
          "output_type": "display_data",
          "data": {
            "text/plain": [
              "<Figure size 640x480 with 0 Axes>"
            ]
          },
          "metadata": {}
        }
      ]
    }
  ]
}