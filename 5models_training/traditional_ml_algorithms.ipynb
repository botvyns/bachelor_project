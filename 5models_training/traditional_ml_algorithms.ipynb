{
  "metadata": {
    "kernelspec": {
      "language": "python",
      "display_name": "Python 3",
      "name": "python3"
    },
    "language_info": {
      "name": "python",
      "version": "3.10.13",
      "mimetype": "text/x-python",
      "codemirror_mode": {
        "name": "ipython",
        "version": 3
      },
      "pygments_lexer": "ipython3",
      "nbconvert_exporter": "python",
      "file_extension": ".py"
    },
    "kaggle": {
      "accelerator": "gpu",
      "dataSources": [
        {
          "sourceId": 8183957,
          "sourceType": "datasetVersion",
          "datasetId": 4845726
        },
        {
          "sourceId": 8201499,
          "sourceType": "datasetVersion",
          "datasetId": 4858693
        },
        {
          "sourceId": 8214557,
          "sourceType": "datasetVersion",
          "datasetId": 4868744
        },
        {
          "sourceId": 8214602,
          "sourceType": "datasetVersion",
          "datasetId": 4868779
        },
        {
          "sourceId": 8247322,
          "sourceType": "datasetVersion",
          "datasetId": 4893124
        }
      ],
      "dockerImageVersionId": 30698,
      "isInternetEnabled": true,
      "language": "python",
      "sourceType": "notebook",
      "isGpuEnabled": true
    },
    "colab": {
      "provenance": []
    }
  },
  "nbformat_minor": 0,
  "nbformat": 4,
  "cells": [
    {
      "cell_type": "markdown",
      "source": [
        "# Logistic Regression, Random Forest"
      ],
      "metadata": {
        "id": "aVAakFWJ2N12"
      }
    },
    {
      "cell_type": "code",
      "source": [
        "import pandas as pd\n",
        "\n",
        "data = pd.read_csv(\"dataset_ready_for_models.csv\")"
      ],
      "metadata": {
        "execution": {
          "iopub.status.busy": "2024-04-27T18:18:33.809943Z",
          "iopub.execute_input": "2024-04-27T18:18:33.810297Z",
          "iopub.status.idle": "2024-04-27T18:18:34.188708Z",
          "shell.execute_reply.started": "2024-04-27T18:18:33.810268Z",
          "shell.execute_reply": "2024-04-27T18:18:34.187828Z"
        },
        "trusted": true,
        "id": "qmwC1PbMY2vf"
      },
      "execution_count": null,
      "outputs": []
    },
    {
      "cell_type": "code",
      "source": [
        "data['is_sarcastic'].value_counts()"
      ],
      "metadata": {
        "execution": {
          "iopub.status.busy": "2024-04-27T18:19:01.27887Z",
          "iopub.execute_input": "2024-04-27T18:19:01.279539Z",
          "iopub.status.idle": "2024-04-27T18:19:01.294192Z",
          "shell.execute_reply.started": "2024-04-27T18:19:01.279504Z",
          "shell.execute_reply": "2024-04-27T18:19:01.293248Z"
        },
        "trusted": true,
        "id": "ZaYPufMAY2vi",
        "colab": {
          "base_uri": "https://localhost:8080/"
        },
        "outputId": "f8cd209e-b200-4292-8bb4-92745bc53ea1"
      },
      "execution_count": null,
      "outputs": [
        {
          "output_type": "execute_result",
          "data": {
            "text/plain": [
              "is_sarcastic\n",
              "1    5378\n",
              "0    5378\n",
              "Name: count, dtype: int64"
            ]
          },
          "metadata": {},
          "execution_count": 2
        }
      ]
    },
    {
      "cell_type": "code",
      "source": [
        "data.isnull().any()"
      ],
      "metadata": {
        "execution": {
          "iopub.status.busy": "2024-04-27T18:19:05.839097Z",
          "iopub.execute_input": "2024-04-27T18:19:05.839485Z",
          "iopub.status.idle": "2024-04-27T18:19:05.855248Z",
          "shell.execute_reply.started": "2024-04-27T18:19:05.839448Z",
          "shell.execute_reply": "2024-04-27T18:19:05.854285Z"
        },
        "trusted": true,
        "id": "0VR5t0WQY2vl",
        "colab": {
          "base_uri": "https://localhost:8080/"
        },
        "outputId": "19422f9f-48ad-4490-c328-8ad889661385"
      },
      "execution_count": null,
      "outputs": [
        {
          "output_type": "execute_result",
          "data": {
            "text/plain": [
              "Unnamed: 0.1         False\n",
              "Unnamed: 0           False\n",
              "is_sarcastic         False\n",
              "text                 False\n",
              "source               False\n",
              "text_mod             False\n",
              "tokenized            False\n",
              "tokenized_cleaned    False\n",
              "lemmatized           False\n",
              "dtype: bool"
            ]
          },
          "metadata": {},
          "execution_count": 3
        }
      ]
    },
    {
      "cell_type": "code",
      "source": [
        "data=data.sample(frac=1, random_state=42)"
      ],
      "metadata": {
        "execution": {
          "iopub.status.busy": "2024-04-27T18:19:20.357555Z",
          "iopub.execute_input": "2024-04-27T18:19:20.358224Z",
          "iopub.status.idle": "2024-04-27T18:19:20.369479Z",
          "shell.execute_reply.started": "2024-04-27T18:19:20.358193Z",
          "shell.execute_reply": "2024-04-27T18:19:20.368644Z"
        },
        "trusted": true,
        "id": "Ev1OhFlxY2vp"
      },
      "execution_count": null,
      "outputs": []
    },
    {
      "cell_type": "code",
      "source": [
        "from sklearn.model_selection import train_test_split\n",
        "\n",
        "train, test = train_test_split(data, test_size=0.2, random_state=42, stratify=data['is_sarcastic'])"
      ],
      "metadata": {
        "execution": {
          "iopub.status.busy": "2024-04-27T18:19:24.778238Z",
          "iopub.execute_input": "2024-04-27T18:19:24.779046Z",
          "iopub.status.idle": "2024-04-27T18:19:25.317254Z",
          "shell.execute_reply.started": "2024-04-27T18:19:24.779012Z",
          "shell.execute_reply": "2024-04-27T18:19:25.316243Z"
        },
        "trusted": true,
        "id": "EsQ8iwKgY2vr"
      },
      "execution_count": null,
      "outputs": []
    },
    {
      "cell_type": "code",
      "source": [
        "print(train.shape)\n",
        "print(test.shape)"
      ],
      "metadata": {
        "execution": {
          "iopub.status.busy": "2024-04-27T18:20:12.852053Z",
          "iopub.execute_input": "2024-04-27T18:20:12.852668Z",
          "iopub.status.idle": "2024-04-27T18:20:12.857644Z",
          "shell.execute_reply.started": "2024-04-27T18:20:12.852631Z",
          "shell.execute_reply": "2024-04-27T18:20:12.856678Z"
        },
        "trusted": true,
        "id": "lXyi0uEfY2vt",
        "colab": {
          "base_uri": "https://localhost:8080/"
        },
        "outputId": "27c8866e-8746-41c4-b2f5-f6301c32ebb1"
      },
      "execution_count": null,
      "outputs": [
        {
          "output_type": "stream",
          "name": "stdout",
          "text": [
            "(8604, 9)\n",
            "(2152, 9)\n"
          ]
        }
      ]
    },
    {
      "cell_type": "code",
      "source": [
        "print(train['is_sarcastic'].value_counts())\n",
        "print(test['is_sarcastic'].value_counts())"
      ],
      "metadata": {
        "execution": {
          "iopub.status.busy": "2024-04-27T18:20:46.456274Z",
          "iopub.execute_input": "2024-04-27T18:20:46.457121Z",
          "iopub.status.idle": "2024-04-27T18:20:46.465586Z",
          "shell.execute_reply.started": "2024-04-27T18:20:46.457085Z",
          "shell.execute_reply": "2024-04-27T18:20:46.464545Z"
        },
        "trusted": true,
        "id": "Bi90RsOFY2vw",
        "colab": {
          "base_uri": "https://localhost:8080/"
        },
        "outputId": "eaca7e27-8645-439f-f6d1-cf22314d9ad0"
      },
      "execution_count": null,
      "outputs": [
        {
          "output_type": "stream",
          "name": "stdout",
          "text": [
            "is_sarcastic\n",
            "1    4302\n",
            "0    4302\n",
            "Name: count, dtype: int64\n",
            "is_sarcastic\n",
            "1    1076\n",
            "0    1076\n",
            "Name: count, dtype: int64\n"
          ]
        }
      ]
    },
    {
      "cell_type": "code",
      "source": [
        "train.to_csv(\"train_ready_for_models.csv\")\n",
        "test.to_csv(\"test_ready_for_models.csv\")"
      ],
      "metadata": {
        "execution": {
          "iopub.status.busy": "2024-04-27T18:20:51.169924Z",
          "iopub.execute_input": "2024-04-27T18:20:51.170273Z",
          "iopub.status.idle": "2024-04-27T18:20:51.472816Z",
          "shell.execute_reply.started": "2024-04-27T18:20:51.170243Z",
          "shell.execute_reply": "2024-04-27T18:20:51.472035Z"
        },
        "trusted": true,
        "id": "jeGAZTmnY2vy"
      },
      "execution_count": null,
      "outputs": []
    },
    {
      "cell_type": "code",
      "source": [
        "import ast\n",
        "train['lemmatized'] = train['lemmatized'].apply(ast.literal_eval)\n",
        "test['lemmatized'] = test['lemmatized'].apply(ast.literal_eval)"
      ],
      "metadata": {
        "execution": {
          "iopub.status.busy": "2024-04-27T18:21:21.264963Z",
          "iopub.execute_input": "2024-04-27T18:21:21.265336Z",
          "iopub.status.idle": "2024-04-27T18:21:21.679041Z",
          "shell.execute_reply.started": "2024-04-27T18:21:21.265308Z",
          "shell.execute_reply": "2024-04-27T18:21:21.67823Z"
        },
        "trusted": true,
        "id": "9V8TICe2Y2v0"
      },
      "execution_count": null,
      "outputs": []
    },
    {
      "cell_type": "code",
      "source": [
        "X_train = train['lemmatized']\n",
        "X_test = test['lemmatized']\n",
        "y_train = train['is_sarcastic']\n",
        "y_test = test['is_sarcastic']"
      ],
      "metadata": {
        "execution": {
          "iopub.status.busy": "2024-04-27T18:22:02.514554Z",
          "iopub.execute_input": "2024-04-27T18:22:02.515366Z",
          "iopub.status.idle": "2024-04-27T18:22:02.520267Z",
          "shell.execute_reply.started": "2024-04-27T18:22:02.515328Z",
          "shell.execute_reply": "2024-04-27T18:22:02.519258Z"
        },
        "trusted": true,
        "id": "Llvb51nZY2v2"
      },
      "execution_count": null,
      "outputs": []
    },
    {
      "cell_type": "code",
      "source": [
        "def identity_tokenizer(text):\n",
        "    \"\"\"\n",
        "    A tokenizer function that returns the input text unchanged.\n",
        "\n",
        "    Parameters:\n",
        "    text (str): The input text.\n",
        "\n",
        "    Returns:\n",
        "    str: The input text unchanged.\n",
        "    \"\"\"\n",
        "    return text"
      ],
      "metadata": {
        "execution": {
          "iopub.status.busy": "2024-04-27T18:22:04.228596Z",
          "iopub.execute_input": "2024-04-27T18:22:04.22939Z",
          "iopub.status.idle": "2024-04-27T18:22:04.233584Z",
          "shell.execute_reply.started": "2024-04-27T18:22:04.22936Z",
          "shell.execute_reply": "2024-04-27T18:22:04.232665Z"
        },
        "trusted": true,
        "id": "Eyy9zhpGY2v3"
      },
      "execution_count": null,
      "outputs": []
    },
    {
      "cell_type": "code",
      "source": [
        "import pickle\n",
        "from sklearn.feature_extraction.text import TfidfVectorizer\n",
        "\n",
        "def calculate_tfidf(X_train, X_test):\n",
        "    \"\"\"\n",
        "    Calculate TF-IDF (Term Frequency-Inverse Document Frequency) vectors for training and test data.\n",
        "\n",
        "    Args:\n",
        "    X_train (list or array-like): Training data.\n",
        "    X_test (list or array-like): Test data.\n",
        "\n",
        "    Returns:\n",
        "    tuple: Tuple containing TF-IDF vectors for training and test data.\n",
        "    \"\"\"\n",
        "    tfidf_vectorizer = TfidfVectorizer(tokenizer=identity_tokenizer, lowercase=False, token_pattern=None, ngram_range=(1,3), min_df=1)\n",
        "\n",
        "    X_train_tfidf = tfidf_vectorizer.fit_transform(X_train)\n",
        "\n",
        "    X_test_tfidf = tfidf_vectorizer.transform(X_test)\n",
        "\n",
        "    return X_train_tfidf, X_test_tfidf"
      ],
      "metadata": {
        "id": "Twvw6UffkKnI"
      },
      "execution_count": null,
      "outputs": []
    },
    {
      "cell_type": "code",
      "source": [
        "X_train_tfidf, X_test_tfidf = calculate_tfidf(X_train, X_test)"
      ],
      "metadata": {
        "id": "rhihSS-gbBKb"
      },
      "execution_count": null,
      "outputs": []
    },
    {
      "cell_type": "code",
      "source": [
        "from sklearn.linear_model import LogisticRegression\n",
        "from sklearn.ensemble import RandomForestClassifier\n",
        "from sklearn.metrics import classification_report\n",
        "\n",
        "def train_and_evaluate(classifier, X_train, y_train, X_test, y_test):\n",
        "    \"\"\"\n",
        "    Train the classifier, make predictions, and print classification report.\n",
        "\n",
        "    Args:\n",
        "    classifier: Classifier object (e.g., LogisticRegression, RandomForestClassifier).\n",
        "    X_train (array-like): Training data features.\n",
        "    y_train (array-like): Training data labels.\n",
        "    X_test (array-like): Test data features.\n",
        "    y_test (array-like): Test data labels.\n",
        "\n",
        "    Returns:\n",
        "    None\n",
        "    \"\"\"\n",
        "    # Train the classifier\n",
        "    classifier.fit(X_train, y_train)\n",
        "\n",
        "    # Make predictions\n",
        "    y_pred = classifier.predict(X_test)\n",
        "\n",
        "    # Print classification report\n",
        "    print(classification_report(y_test, y_pred), end=\"\\n\\n\")\n",
        "\n",
        "    return y_pred\n",
        "\n",
        "# Create classifiers\n",
        "lr_classifier_default = LogisticRegression()\n",
        "rf_classifier_default = RandomForestClassifier()\n",
        "\n",
        "# Train and evaluate Logistic Regression classifier\n",
        "print(\"Logistic Regression Classifier:\")\n",
        "y_pred_lr = train_and_evaluate(lr_classifier_default, X_train_tfidf, y_train, X_test_tfidf, y_test)\n",
        "\n",
        "# Train and evaluate RandomForestClassifier\n",
        "print(\"Random Forest Classifier:\")\n",
        "y_pred_rf = train_and_evaluate(rf_classifier_default, X_train_tfidf, y_train, X_test_tfidf, y_test)"
      ],
      "metadata": {
        "colab": {
          "base_uri": "https://localhost:8080/"
        },
        "id": "1MTcXRltcEZF",
        "outputId": "6dc4c515-c5d4-49e1-97a9-cd4e4f9588be"
      },
      "execution_count": null,
      "outputs": [
        {
          "output_type": "stream",
          "name": "stdout",
          "text": [
            "Logistic Regression Classifier:\n",
            "              precision    recall  f1-score   support\n",
            "\n",
            "           0       0.70      0.63      0.67      1076\n",
            "           1       0.67      0.74      0.70      1076\n",
            "\n",
            "    accuracy                           0.68      2152\n",
            "   macro avg       0.68      0.68      0.68      2152\n",
            "weighted avg       0.68      0.68      0.68      2152\n",
            "\n",
            "\n",
            "Random Forest Classifier:\n",
            "              precision    recall  f1-score   support\n",
            "\n",
            "           0       0.62      0.86      0.72      1076\n",
            "           1       0.77      0.47      0.59      1076\n",
            "\n",
            "    accuracy                           0.67      2152\n",
            "   macro avg       0.70      0.67      0.65      2152\n",
            "weighted avg       0.70      0.67      0.65      2152\n",
            "\n",
            "\n"
          ]
        }
      ]
    },
    {
      "cell_type": "code",
      "source": [
        "from sklearn.model_selection import GridSearchCV\n",
        "\n",
        "def grid_search_and_evaluate(classifier, param_grid, X_train, y_train, X_test, y_test):\n",
        "    \"\"\"\n",
        "    Perform grid search hyperparameter tuning, train the classifier, make predictions, and print classification report.\n",
        "\n",
        "    Args:\n",
        "    classifier: Classifier object.\n",
        "    param_grid (dict): Parameter grid for hyperparameter tuning.\n",
        "    X_train (array-like): Training data features.\n",
        "    y_train (array-like): Training data labels.\n",
        "    X_test (array-like): Test data features.\n",
        "    y_test (array-like): Test data labels.\n",
        "\n",
        "    Returns:\n",
        "    None\n",
        "    \"\"\"\n",
        "    # Initialize GridSearchCV\n",
        "    grid_search = GridSearchCV(classifier, param_grid, cv=5, scoring='f1_macro')\n",
        "\n",
        "    # Fit the GridSearchCV on training data\n",
        "    grid_search.fit(X_train, y_train)\n",
        "\n",
        "    # Best parameters and best score\n",
        "    print(\"Best Parameters: \", grid_search.best_params_)\n",
        "    print(\"Best Score: \", grid_search.best_score_)\n",
        "\n",
        "    # Make predictions\n",
        "    y_pred = grid_search.predict(X_test)\n",
        "\n",
        "    # Print classification report\n",
        "    print(classification_report(y_test, y_pred), end='\\n\\n')\n",
        "\n",
        "# Define parameter grid for Logistic Regression\n",
        "lr_param_grid = {\n",
        "    'solver': ['saga', ],\n",
        "    'penalty': ['l1', 'l2'],\n",
        "    'C': [0.1, 1, 10],\n",
        "    'max_iter': [500, 1000, 2000]\n",
        "}\n",
        "\n",
        "# Define parameter grid for Random Forest\n",
        "rf_param_grid = {\n",
        "    'n_estimators': [100, 200],\n",
        "    'max_depth': [None, 10],\n",
        "    'min_samples_split': [2, 5],\n",
        "    'min_samples_leaf': [1, 2]\n",
        "}\n",
        "\n",
        "# Create and evaluate Logistic Regression classifier\n",
        "print(\"Logistic Regression Classifier:\")\n",
        "grid_search_and_evaluate(LogisticRegression(), lr_param_grid, X_train_tfidf, y_train, X_test_tfidf, y_test)\n",
        "\n",
        "# Create and evaluate Random Forest classifier\n",
        "print(\"Random Forest Classifier:\")\n",
        "grid_search_and_evaluate(RandomForestClassifier(), rf_param_grid, X_train_tfidf, y_train, X_test_tfidf, y_test)"
      ],
      "metadata": {
        "id": "xwbTyxXXcaAr"
      },
      "execution_count": null,
      "outputs": []
    },
    {
      "cell_type": "code",
      "source": [
        "from sklearn.linear_model import LogisticRegression\n",
        "from sklearn.ensemble import RandomForestClassifier\n",
        "from sklearn.metrics import classification_report\n",
        "\n",
        "# Create classifiers with best parameters\n",
        "lr_classifier_param = LogisticRegression(C=10, max_iter=2000,  penalty='l2', solver='saga')\n",
        "rf_classifier_param = RandomForestClassifier(max_depth=None, min_samples_leaf=2, min_samples_split=2, n_estimators=200)\n",
        "\n",
        "# Train and evaluate Logistic Regression classifier\n",
        "print(\"Logistic Regression Classifier with the BEST Parameters:\")\n",
        "y_pred_lr_param = train_and_evaluate(lr_classifier_param, X_train_tfidf, y_train, X_test_tfidf, y_test)\n",
        "\n",
        "# Train and evaluate RandomForestClassifier\n",
        "print(\"Random Forest Classifier with the BEST Parameters:\")\n",
        "y_pred_rf_param = train_and_evaluate(rf_classifier_param, X_train_tfidf, y_train, X_test_tfidf, y_test)"
      ],
      "metadata": {
        "colab": {
          "base_uri": "https://localhost:8080/"
        },
        "id": "5UkBoYigdsuT",
        "outputId": "3322c92a-092b-4207-d4f4-ce12e02912fa"
      },
      "execution_count": null,
      "outputs": [
        {
          "output_type": "stream",
          "name": "stdout",
          "text": [
            "Logistic Regression Classifier with the BEST Parameters:\n",
            "              precision    recall  f1-score   support\n",
            "\n",
            "           0       0.70      0.63      0.67      1076\n",
            "           1       0.67      0.73      0.70      1076\n",
            "\n",
            "    accuracy                           0.68      2152\n",
            "   macro avg       0.68      0.68      0.68      2152\n",
            "weighted avg       0.68      0.68      0.68      2152\n",
            "\n",
            "\n",
            "Random Forest Classifier with the BEST Parameters:\n",
            "              precision    recall  f1-score   support\n",
            "\n",
            "           0       0.65      0.82      0.73      1076\n",
            "           1       0.76      0.56      0.64      1076\n",
            "\n",
            "    accuracy                           0.69      2152\n",
            "   macro avg       0.70      0.69      0.68      2152\n",
            "weighted avg       0.70      0.69      0.68      2152\n",
            "\n",
            "\n"
          ]
        }
      ]
    },
    {
      "cell_type": "code",
      "source": [
        "# import pandas as pd\n",
        "# import numpy as np\n",
        "\n",
        "# def get_misclassified_df(y_true, y_pred, X_test_texts):\n",
        "#     misclassified_indices = np.where(y_true != y_pred)[0]\n",
        "\n",
        "#     misclassified_data = []\n",
        "\n",
        "#     for index, text in zip(misclassified_indices, X_test_texts.iloc[misclassified_indices]):\n",
        "#         true_label = y_true.iloc[index]\n",
        "#         predicted_label = y_pred[index]\n",
        "\n",
        "#         misclassified_data.append({'True Label': true_label,\n",
        "#                                    'Predicted Label': predicted_label,\n",
        "#                                    'Text': text})\n",
        "\n",
        "#     # Convert the list of dictionaries into a DataFrame\n",
        "#     misclassified_df = pd.DataFrame(misclassified_data)\n",
        "\n",
        "#     return misclassified_df"
      ],
      "metadata": {
        "id": "ClkPlu9UtbNo"
      },
      "execution_count": null,
      "outputs": []
    },
    {
      "cell_type": "code",
      "source": [
        "# y_pred_rf_param = []\n",
        "\n",
        "# with open(\"/content/y_pred_rf_param.txt\", \"r\") as file:\n",
        "#   for line in file.readlines():\n",
        "#     y_pred_rf_param.append(int(line.split('.')[0]))"
      ],
      "metadata": {
        "id": "HJshPA937r_l"
      },
      "execution_count": null,
      "outputs": []
    },
    {
      "cell_type": "code",
      "source": [
        "# from sklearn.metrics import confusion_matrix\n",
        "# import seaborn as sns\n",
        "# import matplotlib.pyplot as plt\n",
        "\n",
        "# def plot_confusion_matrix(y_true, y_pred, title):\n",
        "#     conf_matrix = confusion_matrix(y_true, y_pred)\n",
        "\n",
        "#     plt.figure(figsize=(8, 6))\n",
        "#     sns.heatmap(conf_matrix, annot=True, fmt='d', cmap='Blues', cbar=False, xticklabels=['Не сарказм', 'Сарказм'], yticklabels=['Не сарказм', 'Сарказм'])\n",
        "#     plt.xlabel('Передбачені мітки')\n",
        "#     plt.ylabel('Справжні мітки')\n",
        "#     plt.title(title)\n",
        "#     plt.show()"
      ],
      "metadata": {
        "id": "haVkX1M7l1DO"
      },
      "execution_count": null,
      "outputs": []
    },
    {
      "cell_type": "code",
      "source": [
        "# plot_confusion_matrix(y_test, y_pred_rf_param, 'Матриця невідповідносетей, алгоритм випадкового лісу з параметрами')"
      ],
      "metadata": {
        "colab": {
          "base_uri": "https://localhost:8080/",
          "height": 564
        },
        "id": "0kzKoXNSmn4d",
        "outputId": "6b7237f6-1941-4059-e45d-78c048f1f17d"
      },
      "execution_count": null,
      "outputs": [
        {
          "output_type": "display_data",
          "data": {
            "text/plain": [
              "<Figure size 800x600 with 1 Axes>"
            ],
            "image/png": "[encoded data removed]"
          },
          "metadata": {}
        }
      ]
    },
    {
      "cell_type": "code",
      "source": [
        "# plot_confusion_matrix(y_test, y_pred_rf_best, 'Матриця невідповідносетей, алгоритм випадкового лісу з параметрами')"
      ],
      "metadata": {
        "colab": {
          "base_uri": "https://localhost:8080/",
          "height": 564
        },
        "id": "zwnoINTmqRRq",
        "outputId": "aacae6d9-ce7d-4667-e9f5-6f5910232e38"
      },
      "execution_count": null,
      "outputs": [
        {
          "output_type": "display_data",
          "data": {
            "text/plain": [
              "<Figure size 800x600 with 1 Axes>"
            ],
            "image/png": "[encoded data removed]"
          },
          "metadata": {}
        }
      ]
    },
    {
      "cell_type": "markdown",
      "source": [
        "# Experiment with synthetic data"
      ],
      "metadata": {
        "id": "P8-l9qo51v0P"
      }
    },
    {
      "cell_type": "code",
      "source": [
        "import pandas as pd\n",
        "\n",
        "synth_openai = pd.read_csv(\"/content/synth_openai_sarc_and_not.csv\", usecols=['is_sarcastic', 'lemmatized'])"
      ],
      "metadata": {
        "id": "p5fSWIbsxj0o"
      },
      "execution_count": null,
      "outputs": []
    },
    {
      "cell_type": "code",
      "source": [
        "synth_openai['is_sarcastic'].value_counts()"
      ],
      "metadata": {
        "colab": {
          "base_uri": "https://localhost:8080/"
        },
        "id": "iuV338VDyY86",
        "outputId": "d2ee2959-0360-41b6-f849-f0129458cd23"
      },
      "execution_count": null,
      "outputs": [
        {
          "output_type": "execute_result",
          "data": {
            "text/plain": [
              "is_sarcastic\n",
              "0    2554\n",
              "1    2554\n",
              "Name: count, dtype: int64"
            ]
          },
          "metadata": {},
          "execution_count": 28
        }
      ]
    },
    {
      "cell_type": "code",
      "source": [
        "synth_openai = synth_openai.sample(frac=1, random_state=42)"
      ],
      "metadata": {
        "id": "J4V1NANbytJP"
      },
      "execution_count": null,
      "outputs": []
    },
    {
      "cell_type": "code",
      "source": [
        "X_train_synth = pd.concat([train[['lemmatized']], synth_openai[['lemmatized']]])['lemmatized']\n",
        "y_train_synth = pd.concat([train[['is_sarcastic']], synth_openai[['is_sarcastic']]])['is_sarcastic']"
      ],
      "metadata": {
        "id": "EFSvSnh5zIxO"
      },
      "execution_count": null,
      "outputs": []
    },
    {
      "cell_type": "code",
      "source": [
        "X_train_tfidf_synth, X_test_tfidf = calculate_tfidf(X_train_synth, X_test)"
      ],
      "metadata": {
        "id": "JlHew0Hwzdll"
      },
      "execution_count": null,
      "outputs": []
    },
    {
      "cell_type": "code",
      "source": [
        "from sklearn.linear_model import LogisticRegression\n",
        "from sklearn.ensemble import RandomForestClassifier\n",
        "from sklearn.metrics import classification_report\n",
        "\n",
        "lr_classifier_param = LogisticRegression()\n",
        "rf_classifier_param = RandomForestClassifier(max_depth=None, min_samples_leaf=2, min_samples_split=2, n_estimators=200)\n",
        "\n",
        "print(\"Logistic Regression Classifier with the BEST Previous Performance. Trial with Synthetic Data:\")\n",
        "y_pred_lr_synth = train_and_evaluate(lr_classifier_param, X_train_tfidf_synth, y_train_synth, X_test_tfidf, y_test)\n",
        "\n",
        "print(\"Random Forest Classifier with the BEST Previous Performance. Trial with Synthetic Data:\")\n",
        "y_pred_rf_synth = train_and_evaluate(rf_classifier_param, X_train_tfidf_synth, y_train_synth, X_test_tfidf, y_test)"
      ],
      "metadata": {
        "colab": {
          "base_uri": "https://localhost:8080/"
        },
        "id": "_9Ppb1fmgkoe",
        "outputId": "91eda629-d7b4-483f-f513-6f4f812f033a"
      },
      "execution_count": null,
      "outputs": [
        {
          "output_type": "stream",
          "name": "stdout",
          "text": [
            "Logistic Regression Classifier with the BEST Previous Performance. Trial with Synthetic Data:\n",
            "              precision    recall  f1-score   support\n",
            "\n",
            "           0       0.71      0.61      0.66      1076\n",
            "           1       0.66      0.76      0.70      1076\n",
            "\n",
            "    accuracy                           0.68      2152\n",
            "   macro avg       0.69      0.68      0.68      2152\n",
            "weighted avg       0.69      0.68      0.68      2152\n",
            "\n",
            "\n",
            "Random Forest Classifier with the BEST Previous Performance. Trial with Synthetic Data:\n",
            "              precision    recall  f1-score   support\n",
            "\n",
            "           0       0.65      0.81      0.72      1076\n",
            "           1       0.75      0.57      0.65      1076\n",
            "\n",
            "    accuracy                           0.69      2152\n",
            "   macro avg       0.70      0.69      0.69      2152\n",
            "weighted avg       0.70      0.69      0.69      2152\n",
            "\n",
            "\n"
          ]
        }
      ]
    }
  ]
}